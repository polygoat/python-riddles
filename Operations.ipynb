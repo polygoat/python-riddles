{
 "cells": [
  {
   "cell_type": "markdown",
   "metadata": {},
   "source": [
    "# Order of execution"
   ]
  },
  {
   "cell_type": "markdown",
   "metadata": {},
   "source": [
    "We know Python parses and runs our code line by line, from left to right.\n",
    "It will also try to resolve inner expressions first (like the arguments passed to a function). Let's have a look at an example:"
   ]
  },
  {
   "cell_type": "code",
   "execution_count": 10,
   "metadata": {},
   "outputs": [
    {
     "name": "stdout",
     "output_type": "stream",
     "text": [
      "11\n"
     ]
    }
   ],
   "source": [
    "print( 5 + 6 )"
   ]
  },
  {
   "cell_type": "markdown",
   "metadata": {},
   "source": [
    "This will first resolve 5 + 6 to 11 and then pass it to print. If we write down these steps as separate code lines, we would get this:"
   ]
  },
  {
   "cell_type": "code",
   "execution_count": 24,
   "metadata": {},
   "outputs": [
    {
     "name": "stdout",
     "output_type": "stream",
     "text": [
      "11\n"
     ]
    }
   ],
   "source": [
    "temp = 5 + 6\n",
    "print( temp )"
   ]
  },
  {
   "cell_type": "markdown",
   "metadata": {},
   "source": [
    "Consider the following script:"
   ]
  },
  {
   "cell_type": "code",
   "execution_count": null,
   "metadata": {},
   "outputs": [],
   "source": [
    "greeting = \"Hi\"\n",
    "name = \"John\"\n",
    "\n",
    "print ( greeting + \", \" + name )"
   ]
  },
  {
   "cell_type": "markdown",
   "metadata": {},
   "source": [
    "<span style=\"font-size: 20px;\">[1] </span>Now rewrite that as separate steps:"
   ]
  },
  {
   "cell_type": "code",
   "execution_count": 16,
   "metadata": {},
   "outputs": [
    {
     "data": {
      "text/plain": [
       "Ellipsis"
      ]
     },
     "execution_count": 16,
     "metadata": {},
     "output_type": "execute_result"
    }
   ],
   "source": [
    "greeting = \"Hi\"\n",
    "name = \"John\"\n",
    "\n",
    "..."
   ]
  },
  {
   "cell_type": "markdown",
   "metadata": {},
   "source": [
    "What about this one?"
   ]
  },
  {
   "cell_type": "code",
   "execution_count": 18,
   "metadata": {},
   "outputs": [
    {
     "name": "stdout",
     "output_type": "stream",
     "text": [
      "I picked Flowers for Algernon\n"
     ]
    }
   ],
   "source": [
    "books = [\"Flowers for Algernon\", \"The Martian\"]\n",
    "index = 1\n",
    "\n",
    "print( \"I picked \" + books[index - 1] )"
   ]
  },
  {
   "cell_type": "markdown",
   "metadata": {},
   "source": [
    "<span style=\"font-size: 20px;\">[2] </span>Write out the steps:"
   ]
  },
  {
   "cell_type": "code",
   "execution_count": 25,
   "metadata": {},
   "outputs": [
    {
     "name": "stdout",
     "output_type": "stream",
     "text": [
      "\n"
     ]
    }
   ],
   "source": [
    "books = [\"Flowers for Algernon\", \"The Martian\"]\n",
    "index = 1\n",
    "temp = \"\"\n",
    "\n",
    "...\n",
    "print(temp)"
   ]
  },
  {
   "cell_type": "markdown",
   "metadata": {},
   "source": [
    "Just as with arithmetic operators, logical operations have an order of calculation, too. In a logical _**and** operation_ for example, expressions are resolved from left to right.\n",
    "Consider the following script:"
   ]
  },
  {
   "cell_type": "code",
   "execution_count": 27,
   "metadata": {},
   "outputs": [
    {
     "name": "stdout",
     "output_type": "stream",
     "text": [
      "Type in your name: Dan\n",
      "Type in your password: 1234\n",
      "Access denied.\n"
     ]
    }
   ],
   "source": [
    "username = input(\"Type in your name: \")\n",
    "password = input(\"Type in your password: \")\n",
    "\n",
    "if username == \"John\" and password == \"1234\":\n",
    "    print(\"Welcome, John. You are now logged in.\")\n",
    "else:\n",
    "    print(\"Access denied.\")"
   ]
  },
  {
   "cell_type": "markdown",
   "metadata": {},
   "source": [
    "If we write out the separate steps, we get:"
   ]
  },
  {
   "cell_type": "code",
   "execution_count": null,
   "metadata": {},
   "outputs": [],
   "source": [
    "username = input(\"Type in your name: \")\n",
    "password = input(\"Type in your password: \")\n",
    "\n",
    "temp = (username == \"John\")   # temp will hold either True or False\n",
    "temp2 = (password == \"1234\")  # temp2 will hold either True or False\n",
    "\n",
    "temp = temp and temp2         # corresponds to True/False and True/False\n",
    "\n",
    "if temp:\n",
    "    print(\"Welcome, John. You are now logged in.\")\n",
    "else:\n",
    "    print(\"Access denied.\")"
   ]
  },
  {
   "cell_type": "markdown",
   "metadata": {},
   "source": [
    "In a logical operation like **and** or **or**, expressions are being resolved from left to right until they resolve to False. The moment Python knows the condition can't be met, it drops the rest.\n",
    "This means the following two scripts are not the same:"
   ]
  },
  {
   "cell_type": "markdown",
   "metadata": {},
   "source": [
    "## A"
   ]
  },
  {
   "cell_type": "code",
   "execution_count": null,
   "metadata": {},
   "outputs": [],
   "source": [
    "if computationally_heavy_function(username) and password == \"1234\":\n",
    "    print('Welcome!')\n",
    "else:\n",
    "    print('Nopes!')"
   ]
  },
  {
   "cell_type": "markdown",
   "metadata": {},
   "source": [
    "## B"
   ]
  },
  {
   "cell_type": "code",
   "execution_count": null,
   "metadata": {},
   "outputs": [],
   "source": [
    "if password == \"1234\" and computationally_heavy_function(username):\n",
    "    print('Welcome!')\n",
    "else:\n",
    "    print('Nopes!')"
   ]
  },
  {
   "cell_type": "markdown",
   "metadata": {},
   "source": [
    "<span style=\"font-size: 20px;\">[3] </span> Do you know which of these two implementations is faster?"
   ]
  },
  {
   "cell_type": "markdown",
   "metadata": {},
   "source": [
    "# Call stack\n",
    "**The call stack is the stack of subroutines determining the order in which code is being executed**"
   ]
  },
  {
   "cell_type": "markdown",
   "metadata": {},
   "source": [
    "Consider the following function used to count different entities:"
   ]
  },
  {
   "cell_type": "code",
   "execution_count": 3,
   "metadata": {},
   "outputs": [
    {
     "name": "stdout",
     "output_type": "stream",
     "text": [
      "{'books': 0}\n"
     ]
    }
   ],
   "source": [
    "def count(entity):\n",
    "    if entity in counts_storage:\n",
    "        counts_storage[entity] += 1\n",
    "    else:\n",
    "        counts_storage[entity] = 0\n",
    "    return counts_storage\n",
    "    \n",
    "counts_storage = {}\n",
    "count(\"books\")\n",
    "\n",
    "print(counts_storage)"
   ]
  },
  {
   "cell_type": "markdown",
   "metadata": {},
   "source": [
    "<span style=\"font-size: 20px;\">[4] </span> In line 2, counts_storage is being accessed even though it has not been declared yet – why?\n",
    "Can you tell in which order the lines are being executed?"
   ]
  },
  {
   "cell_type": "code",
   "execution_count": null,
   "metadata": {},
   "outputs": [],
   "source": []
  },
  {
   "cell_type": "markdown",
   "metadata": {},
   "source": [
    "# Solutions"
   ]
  },
  {
   "cell_type": "markdown",
   "metadata": {},
   "source": [
    "<span style=\"font-size: 20px;\">[1]  </span> <pre>\n",
    "    temp = greeting + \", \"\n",
    "    temp = temp + name\n",
    "    print(temp)\n",
    "</pre>\n",
    "<span style=\"font-size: 20px;\">[2]  </span> <pre>\n",
    "    temp\n",
    "    temp = index - 1\n",
    "    temp = books[temp]\n",
    "    temp = \"I picked \" + temp\n",
    "</pre>\n",
    "<span style=\"font-size: 20px;\">[3]  </span> B, because if the password doesn't match, Python will drop the rest and continue with the else block.\n",
    "\n",
    "<span style=\"font-size: 20px;\">[4]  </span> Lines 2 through 6 are only computed after count has been called in like 9, so counts_storage (line 8) has already been declared. The correct order of execution is [1,8,9,2,5,6,11]"
   ]
  },
  {
   "cell_type": "code",
   "execution_count": null,
   "metadata": {},
   "outputs": [],
   "source": []
  }
 ],
 "metadata": {
  "kernelspec": {
   "display_name": "Python 3",
   "language": "python",
   "name": "python3"
  },
  "language_info": {
   "codemirror_mode": {
    "name": "ipython",
    "version": 3
   },
   "file_extension": ".py",
   "mimetype": "text/x-python",
   "name": "python",
   "nbconvert_exporter": "python",
   "pygments_lexer": "ipython3",
   "version": "3.7.6"
  }
 },
 "nbformat": 4,
 "nbformat_minor": 4
}
